{
 "cells": [
  {
   "cell_type": "code",
   "execution_count": 1,
   "metadata": {},
   "outputs": [],
   "source": [
    "from splinter import Browser\n",
    "from bs4 import BeautifulSoup\n",
    "from webdriver_manager.chrome import ChromeDriverManager\n",
    "import pandas as pd\n",
    "import time\n",
    "import datetime"
   ]
  },
  {
   "cell_type": "code",
   "execution_count": 2,
   "metadata": {},
   "outputs": [
    {
     "name": "stderr",
     "output_type": "stream",
     "text": [
      "[WDM] - Current google-chrome version is 87.0.4280\n",
      "[WDM] - Get LATEST driver version for 87.0.4280\n"
     ]
    },
    {
     "name": "stdout",
     "output_type": "stream",
     "text": [
      " \n"
     ]
    },
    {
     "name": "stderr",
     "output_type": "stream",
     "text": [
      "[WDM] - Driver [/Users/samanthalane/.wdm/drivers/chromedriver/mac64/87.0.4280.88/chromedriver] found in cache\n"
     ]
    }
   ],
   "source": [
    "executable_path = {'executable_path': ChromeDriverManager().install()}\n",
    "browser = Browser('chrome', **executable_path, headless=False)"
   ]
  },
  {
   "cell_type": "code",
   "execution_count": 3,
   "metadata": {},
   "outputs": [
    {
     "name": "stderr",
     "output_type": "stream",
     "text": [
      "/opt/anaconda3/lib/python3.8/site-packages/splinter/driver/webdriver/__init__.py:490: FutureWarning: browser.find_link_by_partial_text is deprecated. Use browser.links.find_by_partial_text instead.\n",
      "  warnings.warn(\n"
     ]
    }
   ],
   "source": [
    "scraped_data= {}\n",
    "\n",
    "#Getting News Info\n",
    "\n",
    "url = \"https://mars.nasa.gov/news/\"\n",
    "browser.visit(url)\n",
    "\n",
    "#allow broswer to open\n",
    "time.sleep(1)\n",
    "\n",
    "soup = BeautifulSoup(browser.html)\n",
    "\n",
    "#Grabbing the Titles and the Paragapghs \n",
    "slide = soup.find(\"li\", {\"class\": \"slide\"})\n",
    "newsTitle = slide.find(\"div\", {\"class\": \"content_title\"}).text.strip()\n",
    "newsPara = slide.find(\"div\", {\"class\": \"article_teaser_body\"}).text.strip()\n",
    "\n",
    "#Getting image \n",
    "base = \"https://www.jpl.nasa.gov\"\n",
    "url = \"https://www.jpl.nasa.gov/spaceimages/?search=&category=Mars\"\n",
    "browser.visit(url)\n",
    "\n",
    "\n",
    "#allow broswer to open\n",
    "time.sleep(1)\n",
    "\n",
    "#find image\n",
    "browser.find_by_id(\"full_image\").click()\n",
    "time.sleep(1)\n",
    "\n",
    "browser.find_link_by_partial_text(\"more info\").click()\n",
    "time.sleep(1)\n",
    "\n",
    "soup = BeautifulSoup(browser.html)\n",
    "image = soup.find(\"img\", {\"class\": \"main_image\"})\n",
    "\n",
    "featuredImage = base + image[\"src\"]\n",
    "\n",
    "#get Mars Facts \n",
    "url = \"https://space-facts.com/mars/\"\n",
    "browser.visit(url)\n",
    "time.sleep(1)\n",
    "\n",
    "table = pd.read_html(url)\n",
    "df = table[0]\n",
    "df.columns = [\"Criteria\", \"Values\"]\n",
    "facts = df.to_html(index=False)\n",
    "\n",
    "# Hemisphere Data \n",
    "base = \"https://astrogeology.usgs.gov\"\n",
    "url = f\"{base}/search/results?q=hemisphere+enhanced&k1=target&v1=Mars\"\n",
    "browser.visit(url)\n",
    "time.sleep(1)\n",
    "\n",
    "soup = BeautifulSoup(browser.html)\n",
    "imgLinks = soup.find(\"div\", {\"class\":\"results\"}).findAll(\"a\", {\"class\":\"itemLink\"})\n",
    "imgLinks\n",
    "\n",
    "links = []\n",
    "for link in imgLinks: \n",
    "    image = link.find(\"img\")\n",
    "    if (image):\n",
    "        links.append(base + link[\"href\"])\n",
    "        \n",
    "hemiData = []       \n",
    "for link in links: \n",
    "    browser.visit(link)\n",
    "    time.sleep(1)\n",
    "    soup = BeautifulSoup(browser.html)\n",
    "    hemiUrl = soup.find(\"ul\").find(\"li\").find(\"a\")[\"href\"]\n",
    "    hemiTitle = soup.find(\"h2\", {\"class\" : \"title\"}).text.split(\" Enhanced\")[0]\n",
    "    hemiData.append({\"title\": hemiTitle, \"url\": hemiUrl})\n",
    "    \n",
    "\n",
    "\n",
    "browser.quit()\n",
    "\n",
    "#add data to dictonary \n",
    "scraped_data[\"newsTitle\"] = newsTitle\n",
    "scraped_data[\"newsPara\"] = newsPara\n",
    "scraped_data[\"featuredImage\"] = featuredImage\n",
    "scraped_data[\"marsFacts\"] = facts\n",
    "scraped_data[\"hemisphere\"]= hemiData\n",
    "scraped_data[\"last_updated\"] = datetime.datetime.now()"
   ]
  },
  {
   "cell_type": "code",
   "execution_count": 4,
   "metadata": {},
   "outputs": [
    {
     "data": {
      "text/plain": [
       "{'newsTitle': '7 Things to Know About the NASA Rover About to Land on Mars',\n",
       " 'newsPara': 'The Mars 2020 Perseverance rover, which has started its approach to the Red Planet, will help answer the next logical question in Mars exploration.',\n",
       " 'featuredImage': 'https://www.jpl.nasa.gov/spaceimages/images/largesize/PIA17449_hires.jpg',\n",
       " 'marsFacts': '<table border=\"1\" class=\"dataframe\">\\n  <thead>\\n    <tr style=\"text-align: right;\">\\n      <th>Criteria</th>\\n      <th>Values</th>\\n    </tr>\\n  </thead>\\n  <tbody>\\n    <tr>\\n      <td>Equatorial Diameter:</td>\\n      <td>6,792 km</td>\\n    </tr>\\n    <tr>\\n      <td>Polar Diameter:</td>\\n      <td>6,752 km</td>\\n    </tr>\\n    <tr>\\n      <td>Mass:</td>\\n      <td>6.39 × 10^23 kg (0.11 Earths)</td>\\n    </tr>\\n    <tr>\\n      <td>Moons:</td>\\n      <td>2 (Phobos &amp; Deimos)</td>\\n    </tr>\\n    <tr>\\n      <td>Orbit Distance:</td>\\n      <td>227,943,824 km (1.38 AU)</td>\\n    </tr>\\n    <tr>\\n      <td>Orbit Period:</td>\\n      <td>687 days (1.9 years)</td>\\n    </tr>\\n    <tr>\\n      <td>Surface Temperature:</td>\\n      <td>-87 to -5 °C</td>\\n    </tr>\\n    <tr>\\n      <td>First Record:</td>\\n      <td>2nd millennium BC</td>\\n    </tr>\\n    <tr>\\n      <td>Recorded By:</td>\\n      <td>Egyptian astronomers</td>\\n    </tr>\\n  </tbody>\\n</table>',\n",
       " 'hemisphere': [{'title': 'Cerberus Hemisphere',\n",
       "   'url': 'https://astropedia.astrogeology.usgs.gov/download/Mars/Viking/cerberus_enhanced.tif/full.jpg'},\n",
       "  {'title': 'Schiaparelli Hemisphere',\n",
       "   'url': 'https://astropedia.astrogeology.usgs.gov/download/Mars/Viking/schiaparelli_enhanced.tif/full.jpg'},\n",
       "  {'title': 'Syrtis Major Hemisphere',\n",
       "   'url': 'https://astropedia.astrogeology.usgs.gov/download/Mars/Viking/syrtis_major_enhanced.tif/full.jpg'},\n",
       "  {'title': 'Valles Marineris Hemisphere',\n",
       "   'url': 'https://astropedia.astrogeology.usgs.gov/download/Mars/Viking/valles_marineris_enhanced.tif/full.jpg'}],\n",
       " 'last_updated': datetime.datetime(2021, 1, 7, 21, 30, 41, 196660)}"
      ]
     },
     "execution_count": 4,
     "metadata": {},
     "output_type": "execute_result"
    }
   ],
   "source": [
    "scraped_data"
   ]
  },
  {
   "cell_type": "code",
   "execution_count": null,
   "metadata": {},
   "outputs": [],
   "source": []
  },
  {
   "cell_type": "code",
   "execution_count": null,
   "metadata": {},
   "outputs": [],
   "source": []
  },
  {
   "cell_type": "code",
   "execution_count": null,
   "metadata": {},
   "outputs": [],
   "source": []
  },
  {
   "cell_type": "code",
   "execution_count": null,
   "metadata": {},
   "outputs": [],
   "source": []
  },
  {
   "cell_type": "code",
   "execution_count": null,
   "metadata": {},
   "outputs": [],
   "source": []
  }
 ],
 "metadata": {
  "kernelspec": {
   "display_name": "Python 3",
   "language": "python",
   "name": "python3"
  },
  "language_info": {
   "codemirror_mode": {
    "name": "ipython",
    "version": 3
   },
   "file_extension": ".py",
   "mimetype": "text/x-python",
   "name": "python",
   "nbconvert_exporter": "python",
   "pygments_lexer": "ipython3",
   "version": "3.8.3"
  }
 },
 "nbformat": 4,
 "nbformat_minor": 4
}
